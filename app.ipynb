{
 "cells": [
  {
   "cell_type": "code",
   "execution_count": null,
   "metadata": {
    "ExecuteTime": {
     "start_time": "2021-04-02T00:35:05.685Z"
    }
   },
   "outputs": [],
   "source": [
    "\n",
    "\n",
    "from generate_service_model import model_generate_text, processed_model_outputs, calculate_coherence\n",
    "\n",
    "\n",
    "from fastapi import FastAPI, Depends, HTTPException, status, File, UploadFile, HTTPException, Query, Request\n",
    "from fastapi.security import OAuth2PasswordBearer, OAuth2PasswordRequestForm\n",
    "import uvicorn\n",
    "import time\n",
    "\n",
    "\n",
    "\n",
    "app = FastAPI(\n",
    "    title=\"Eason's Chat_AI\",\n",
    "    description=\"歡迎來測試！\",\n",
    "    version=\"0.0.1.1\"\n",
    ")\n",
    "\n",
    "from fastapi.middleware.cors import CORSMiddleware\n",
    "\n",
    "app.add_middleware(\n",
    "    CORSMiddleware,\n",
    "    allow_origins=[\"*\"],\n",
    "    allow_credentials=True,\n",
    "    allow_methods=[\"*\"],\n",
    "    allow_headers=[\"*\"],\n",
    ")\n",
    "\n",
    "\n",
    "\n",
    "@app.get(\"/generate-text/\")\n",
    "def generateText(input_text: str = \"你好[喜歡]\", nsamples: int = 1):\n",
    "    input_text = text_preprocessing(input_text)\n",
    "    result = model_generate_text(input_text, nsamples)\n",
    "    result = processed_model_outputs(result, input_text)\n",
    "    result = calculate_coherence(result)\n",
    "    return result\n",
    "    \n",
    "def text_preprocessing(text):\n",
    "    text = text.replace(\"\\n\", \"\")\n",
    "    text = text.lower()\n",
    "    if \"[噁心]\" in text:\n",
    "        text.replace(\"[噁心]\", \"[厭惡]\")\n",
    "    return text\n",
    "\n",
    "\n",
    "\n",
    "if __name__ == \"__main__\":\n",
    "    import nest_asyncio\n",
    "    nest_asyncio.apply()\n",
    "    import uvicorn\n",
    "    uvicorn.run(app, host=\"0.0.0.0\", port=8081)"
   ]
  },
  {
   "cell_type": "code",
   "execution_count": null,
   "metadata": {},
   "outputs": [],
   "source": []
  }
 ],
 "metadata": {
  "kernelspec": {
   "display_name": "gpt2-chinese",
   "language": "python",
   "name": "gpt2-chinese"
  },
  "language_info": {
   "codemirror_mode": {
    "name": "ipython",
    "version": 3
   },
   "file_extension": ".py",
   "mimetype": "text/x-python",
   "name": "python",
   "nbconvert_exporter": "python",
   "pygments_lexer": "ipython3",
   "version": "3.6.12"
  },
  "toc": {
   "base_numbering": 1,
   "nav_menu": {},
   "number_sections": true,
   "sideBar": true,
   "skip_h1_title": false,
   "title_cell": "Table of Contents",
   "title_sidebar": "Contents",
   "toc_cell": false,
   "toc_position": {},
   "toc_section_display": true,
   "toc_window_display": false
  },
  "varInspector": {
   "cols": {
    "lenName": 16,
    "lenType": 16,
    "lenVar": 40
   },
   "kernels_config": {
    "python": {
     "delete_cmd_postfix": "",
     "delete_cmd_prefix": "del ",
     "library": "var_list.py",
     "varRefreshCmd": "print(var_dic_list())"
    },
    "r": {
     "delete_cmd_postfix": ") ",
     "delete_cmd_prefix": "rm(",
     "library": "var_list.r",
     "varRefreshCmd": "cat(var_dic_list()) "
    }
   },
   "types_to_exclude": [
    "module",
    "function",
    "builtin_function_or_method",
    "instance",
    "_Feature"
   ],
   "window_display": false
  }
 },
 "nbformat": 4,
 "nbformat_minor": 4
}
